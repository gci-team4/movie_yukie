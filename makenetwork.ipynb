{
 "cells": [
  {
   "cell_type": "code",
   "execution_count": 43,
   "metadata": {
    "collapsed": true
   },
   "outputs": [],
   "source": [
    "import pandas as pd\n",
    "import networkx as nx\n",
    "import ast\n",
    "import numpy as np\n",
    "import seaborn as sns\n",
    "from matplotlib.pylab import plt\n",
    "import itertools\n",
    "import community\n",
    "%matplotlib inline"
   ]
  },
  {
   "cell_type": "markdown",
   "metadata": {},
   "source": [
    "データ読み込み、準備"
   ]
  },
  {
   "cell_type": "code",
   "execution_count": 19,
   "metadata": {},
   "outputs": [],
   "source": [
    "#a = pd.read_csv(\"./the-movies-dataset/credits.csv\")\n",
    "credits = pd.read_csv(\"./the-movies-dataset/credits.csv\")"
   ]
  },
  {
   "cell_type": "code",
   "execution_count": 20,
   "metadata": {
    "collapsed": true
   },
   "outputs": [],
   "source": [
    "## データフレーム中のstringをキャスト(dict型)のリストに変換する\n",
    "def make_list_from_str(string):\n",
    "    if isinstance(string, str):\n",
    "        result_list = eval(string)\n",
    "    else:\n",
    "        result_list = np.nan\n",
    "    return result_list"
   ]
  },
  {
   "cell_type": "code",
   "execution_count": 21,
   "metadata": {},
   "outputs": [],
   "source": [
    "credits.cast = credits.cast.map(make_list_from_str)\n",
    "credits.crew = credits.crew.map(make_list_from_str)"
   ]
  },
  {
   "cell_type": "code",
   "execution_count": 30,
   "metadata": {
    "scrolled": true
   },
   "outputs": [],
   "source": [
    "movies_cast_list = credits[\"cast\"].tolist()"
   ]
  },
  {
   "cell_type": "code",
   "execution_count": 31,
   "metadata": {},
   "outputs": [],
   "source": [
    "castkyoukilist = []\n",
    "for movie in movies_cast_list:\n",
    "    castlist = []\n",
    "    for cast in movie:\n",
    "        castlist.append(cast['cast_id'])\n",
    "    castkyoukilist.append(castlist)"
   ]
  },
  {
   "cell_type": "code",
   "execution_count": 37,
   "metadata": {
    "scrolled": true
   },
   "outputs": [
    {
     "data": {
      "text/plain": [
       "[[1, 2, 3, 4, 11, 12, 13, 14, 15, 16, 17, 18, 19, 20, 21, 22, 23, 24],\n",
       " [9, 10, 11, 12, 13, 14, 15, 17, 18, 19, 20],\n",
       " [1, 2, 8, 9, 10, 19, 20, 21, 22, 23, 24, 11, 25]]"
      ]
     },
     "execution_count": 37,
     "metadata": {},
     "output_type": "execute_result"
    }
   ],
   "source": [
    "castkyoukilist[10:13]"
   ]
  },
  {
   "cell_type": "markdown",
   "metadata": {},
   "source": [
    "ネットワーク化する"
   ]
  },
  {
   "cell_type": "code",
   "execution_count": 40,
   "metadata": {},
   "outputs": [],
   "source": [
    "G = nx.Graph()\n",
    "for castlist in castkyoukilist:\n",
    "    G.add_nodes_from(castlist)\n",
    "    G.add_edges_from(list(itertools.combinations(castlist, 2)))"
   ]
  },
  {
   "cell_type": "code",
   "execution_count": 47,
   "metadata": {
    "collapsed": true
   },
   "outputs": [],
   "source": [
    "def clusteringplot(G,partition):                                                                                                           \n",
    "    size = float(len(set(partition.values())))                                                                                                 \n",
    "    pos = nx.spring_layout(G)                                                                                                                  \n",
    "    count = 0.                                                                                                                                 \n",
    "    for com in set(partition.values()):                                                                                                        \n",
    "        count += 1.                                                                                                                              \n",
    "        list_nodes = [nodes for nodes in partition.keys() if partition[nodes] == com]                                                            \n",
    "        nx.draw_networkx_nodes(G, pos, list_nodes, node_size=30, node_color = str(count/size))                                                                                                                                 \n",
    "    plt.show()"
   ]
  },
  {
   "cell_type": "code",
   "execution_count": 52,
   "metadata": {
    "collapsed": true
   },
   "outputs": [],
   "source": [
    "def dividecluster(partition):\n",
    "    valuelist = list(set(partition.values()))\n",
    "    num = len(valuelist)\n",
    "    arr = [[] for i in range(num)]\n",
    "    for k,v in partition.items():\n",
    "        arr[v].append(k)\n",
    "    return arr"
   ]
  },
  {
   "cell_type": "code",
   "execution_count": 50,
   "metadata": {
    "scrolled": true
   },
   "outputs": [
    {
     "data": {
      "image/png": "[encoded data removed]",
      "text/plain": [
       "<matplotlib.figure.Figure at 0x11743fd30>"
      ]
     },
     "metadata": {},
     "output_type": "display_data"
    }
   ],
   "source": [
    "partition = community.best_partition(G)\n",
    "clusteringplot(G,partition)\n",
    "\n",
    "#ノードに名前つけるのと、共演回数でエッジの重みを変えるのがまだ"
   ]
  },
  {
   "cell_type": "code",
   "execution_count": 57,
   "metadata": {
    "scrolled": true
   },
   "outputs": [
    {
     "name": "stdout",
     "output_type": "stream",
     "text": [
      "0\n",
      "[14, 15, 16, 17, 18, 19, 20, 22, 24, 27, 8, 10, 11, 13, 31, 12, 28, 29, 30, 32, 33, 34, 35, 36, 37, 39, 40, 41, 42, 6, 9, 21, 38, 46, 43, 48, 45, 314, 320, 321, 322, 323, 324, 325, 326, 327, 328, 329, 330, 331, 332, 333, 334, 337, 338, 339, 340, 341, 342, 343, 345, 351, 346, 349, 353, 385, 386, 387, 388, 389, 390, 391, 392, 393, 394, 395, 396, 397, 398, 399, 400, 401, 404, 402, 403, 405, 406, 407, 408, 409, 410, 411, 412, 413, 414, 415, 357, 367, 365, 368, 383, 829, 796, 835, 836, 837, 838, 795, 797, 834, 833, 798, 826, 825, 822, 376, 377, 378, 380, 354, 344, 375, 374, 373, 372, 371, 359, 360, 364, 361, 363, 369, 366, 362, 358, 370, 379, 440, 381, 382, 384, 416, 417, 418, 419, 420, 421, 422, 423, 424, 425, 426, 427, 428, 429, 430, 431, 432, 433, 434, 435, 436, 437, 438]\n",
      "1\n",
      "[26, 23, 25, 1, 2, 50, 3, 4, 5, 47, 44, 54, 55, 51, 56, 52, 53, 59, 60, 96, 97, 99, 100, 101, 102, 104, 109, 110, 112, 116, 115, 123, 49, 57, 58, 94, 95, 98, 103, 105, 106, 107, 111, 113, 114, 118, 119, 120, 121, 122, 124, 133, 61, 62, 63, 64, 65, 66, 67, 68, 69, 70, 71, 72, 73, 74, 75, 76, 77, 78, 79, 80, 81, 82, 83, 84, 85, 86, 87, 88, 89, 90, 91, 92, 93, 7, 175, 176, 177, 178, 179, 180, 181, 182, 183, 186, 187, 188, 189, 191, 192, 184, 185, 193, 194, 195, 196, 197, 198, 199, 200, 201, 202, 203, 204, 205, 206, 207, 208, 220, 224, 209, 210, 218, 219, 221, 223, 211, 212, 213, 214, 215, 216, 217, 222, 225, 226, 108, 117, 139, 125, 127, 128, 126, 129, 130, 131, 132, 134, 135, 136, 137, 138, 140, 141, 142, 143, 144, 145, 146, 147, 148, 149, 150, 151, 152, 153, 154, 155, 157, 158, 159, 160, 0, 156, 161, 162, 163, 164, 165, 166, 167, 168, 169, 170, 190, 171, 172, 173, 174, 227, 228, 229, 230, 231, 232, 233, 234, 235, 236, 237, 238, 239, 240, 241, 242, 243, 244, 245, 246, 247, 248, 249, 250, 251, 252, 253, 254, 255, 256, 257, 258, 259, 260, 261, 262, 263, 264, 265, 266, 267, 268, 269, 270, 271, 272, 273, 274, 275, 276, 277, 278, 279, 280, 281, 282, 283, 284, 285, 286, 287, 288, 290, 292, 295, 289, 306, 291, 293, 294, 297, 305, 308, 296, 309, 298, 299, 300, 301, 302, 311, 303, 304, 307, 310, 312, 313, 315, 316, 317, 318, 319, 347, 348, 335, 336, 350, 352, 355, 356]\n",
      "2\n",
      "[1001, 1002, 1003, 1006, 1007, 1004, 1008, 1020, 1005, 1024, 1000, 1009, 1010, 1011, 1012, 1013, 1014, 1015, 1016, 1017, 1018, 1019, 1058, 1060, 1021, 1022, 1051, 1025, 1026, 1027, 1028, 1029, 1030, 1031, 1032, 1033, 1034, 1035, 1036, 1037, 1038, 1039, 1040, 1041, 1042, 1043, 1044, 1045, 1046, 1047, 1048, 1050, 1052, 1023, 1056, 1057, 1049, 1053, 1054, 1055, 1059, 1061, 1062, 1063, 1064, 1065, 1066, 1067, 1068, 1069, 1070, 1093, 1094, 1073, 1074, 1075, 1076, 1077, 1078, 1079, 1080, 1081, 1082, 1083, 1084, 1085, 1086, 1087, 1088, 1089, 1090, 1091, 1092, 1071, 1072, 1101, 1095, 1096, 1097, 1098, 1099, 1100, 1102, 1103, 1104, 1105, 1106, 1107, 1108, 1109, 1110, 1111, 1112, 1113, 1114, 1115, 1116, 1117, 1118, 1119]\n"
     ]
    }
   ],
   "source": [
    "arr = dividecluster(partition)\n",
    "with open('clustering.txt','w') as f:\n",
    "    for cluster in arr:\n",
    "        print(arr.index(cluster))\n",
    "        print(cluster)"
   ]
  },
  {
   "cell_type": "markdown",
   "metadata": {},
   "source": [
    "Cytoscapeか何かで可視化する用"
   ]
  },
  {
   "cell_type": "markdown",
   "metadata": {},
   "source": [
    "networkxのHPに大体のできることが書いてある\n",
    "https://networkx.github.io/documentation/networkx-1.9/reference/functions.html"
   ]
  },
  {
   "cell_type": "code",
   "execution_count": 60,
   "metadata": {},
   "outputs": [
    {
     "ename": "KeyError",
     "evalue": "439",
     "output_type": "error",
     "traceback": [
      "\u001b[0;31m---------------------------------------------------------------------------\u001b[0m",
      "\u001b[0;31mKeyError\u001b[0m                                  Traceback (most recent call last)",
      "\u001b[0;32m<ipython-input-60-bd8d6dbcaf30>\u001b[0m in \u001b[0;36m<module>\u001b[0;34m()\u001b[0m\n\u001b[1;32m      1\u001b[0m \u001b[0mlabels\u001b[0m \u001b[0;34m=\u001b[0m \u001b[0mdict\u001b[0m\u001b[0;34m(\u001b[0m\u001b[0;34m[\u001b[0m\u001b[0;34m(\u001b[0m\u001b[0mi\u001b[0m\u001b[0;34m,\u001b[0m \u001b[0mstr\u001b[0m\u001b[0;34m(\u001b[0m\u001b[0mi\u001b[0m\u001b[0;34m)\u001b[0m\u001b[0;34m)\u001b[0m \u001b[0;32mfor\u001b[0m \u001b[0mi\u001b[0m \u001b[0;32min\u001b[0m \u001b[0mrange\u001b[0m\u001b[0;34m(\u001b[0m\u001b[0mnx\u001b[0m\u001b[0;34m.\u001b[0m\u001b[0mnumber_of_nodes\u001b[0m\u001b[0;34m(\u001b[0m\u001b[0mG\u001b[0m\u001b[0;34m)\u001b[0m\u001b[0;34m)\u001b[0m\u001b[0;34m]\u001b[0m\u001b[0;34m)\u001b[0m\u001b[0;34m\u001b[0m\u001b[0m\n\u001b[0;32m----> 2\u001b[0;31m \u001b[0mnx\u001b[0m\u001b[0;34m.\u001b[0m\u001b[0mset_node_attributes\u001b[0m\u001b[0;34m(\u001b[0m\u001b[0mG\u001b[0m\u001b[0;34m,\u001b[0m \u001b[0;34m'label'\u001b[0m\u001b[0;34m,\u001b[0m \u001b[0mlabels\u001b[0m\u001b[0;34m)\u001b[0m\u001b[0;34m\u001b[0m\u001b[0m\n\u001b[0m\u001b[1;32m      3\u001b[0m \u001b[0mnx\u001b[0m\u001b[0;34m.\u001b[0m\u001b[0mset_node_attributes\u001b[0m\u001b[0;34m(\u001b[0m\u001b[0mG\u001b[0m\u001b[0;34m,\u001b[0m \u001b[0;34m'community'\u001b[0m\u001b[0;34m,\u001b[0m \u001b[0mpartition\u001b[0m\u001b[0;34m)\u001b[0m\u001b[0;34m\u001b[0m\u001b[0m\n\u001b[1;32m      4\u001b[0m \u001b[0mnx\u001b[0m\u001b[0;34m.\u001b[0m\u001b[0mwrite_gml\u001b[0m\u001b[0;34m(\u001b[0m\u001b[0mG\u001b[0m\u001b[0;34m,\u001b[0m \u001b[0;34m\"community.gml\"\u001b[0m\u001b[0;34m)\u001b[0m\u001b[0;34m\u001b[0m\u001b[0m\n",
      "\u001b[0;32m/Users/user1/.pyenv/versions/anaconda3-4.4.0/lib/python3.6/site-packages/networkx/classes/function.py\u001b[0m in \u001b[0;36mset_node_attributes\u001b[0;34m(G, name, values)\u001b[0m\n\u001b[1;32m    331\u001b[0m \u001b[0;34m\u001b[0m\u001b[0m\n\u001b[1;32m    332\u001b[0m     \u001b[0;32mfor\u001b[0m \u001b[0mnode\u001b[0m\u001b[0;34m,\u001b[0m \u001b[0mvalue\u001b[0m \u001b[0;32min\u001b[0m \u001b[0mvalues\u001b[0m\u001b[0;34m.\u001b[0m\u001b[0mitems\u001b[0m\u001b[0;34m(\u001b[0m\u001b[0;34m)\u001b[0m\u001b[0;34m:\u001b[0m\u001b[0;34m\u001b[0m\u001b[0m\n\u001b[0;32m--> 333\u001b[0;31m         \u001b[0mG\u001b[0m\u001b[0;34m.\u001b[0m\u001b[0mnode\u001b[0m\u001b[0;34m[\u001b[0m\u001b[0mnode\u001b[0m\u001b[0;34m]\u001b[0m\u001b[0;34m[\u001b[0m\u001b[0mname\u001b[0m\u001b[0;34m]\u001b[0m \u001b[0;34m=\u001b[0m \u001b[0mvalue\u001b[0m\u001b[0;34m\u001b[0m\u001b[0m\n\u001b[0m\u001b[1;32m    334\u001b[0m \u001b[0;34m\u001b[0m\u001b[0m\n\u001b[1;32m    335\u001b[0m \u001b[0;34m\u001b[0m\u001b[0m\n",
      "\u001b[0;31mKeyError\u001b[0m: 439"
     ]
    }
   ],
   "source": [
    "labels = dict([(i, str(i)) for i in range(nx.number_of_nodes(G))])\n",
    "nx.set_node_attributes(G, 'label', labels)\n",
    "nx.set_node_attributes(G, 'community', partition)\n",
    "nx.write_gml(G, \"community.gml\")"
   ]
  },
  {
   "cell_type": "code",
   "execution_count": null,
   "metadata": {
    "collapsed": true
   },
   "outputs": [],
   "source": []
  }
 ],
 "metadata": {
  "kernelspec": {
   "display_name": "Python 3",
   "language": "python",
   "name": "python3"
  },
  "language_info": {
   "codemirror_mode": {
    "name": "ipython",
    "version": 3
   },
   "file_extension": ".py",
   "mimetype": "text/x-python",
   "name": "python",
   "nbconvert_exporter": "python",
   "pygments_lexer": "ipython3",
   "version": "3.6.1"
  }
 },
 "nbformat": 4,
 "nbformat_minor": 2
}
