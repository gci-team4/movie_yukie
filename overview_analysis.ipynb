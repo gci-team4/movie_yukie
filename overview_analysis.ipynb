{
 "cells": [
  {
   "cell_type": "code",
   "execution_count": 2,
   "metadata": {},
   "outputs": [
    {
     "name": "stderr",
     "output_type": "stream",
     "text": [
      "/Users/user1/.pyenv/versions/anaconda3-4.4.0/lib/python3.6/site-packages/IPython/core/interactiveshell.py:2717: DtypeWarning: Columns (10) have mixed types. Specify dtype option on import or set low_memory=False.\n",
      "  interactivity=interactivity, compiler=compiler, result=result)\n"
     ]
    }
   ],
   "source": [
    "import pandas as pd\n",
    "#a = pd.read_csv(\"./the-movies-dataset/credits.csv\")\n",
    "b = pd.read_csv(\"./the-movies-dataset/movies_metadata.csv\")"
   ]
  },
  {
   "cell_type": "code",
   "execution_count": 3,
   "metadata": {
    "collapsed": true,
    "scrolled": false
   },
   "outputs": [],
   "source": [
    "c = b[['id','title','overview','tagline']]\n",
    "d = c.dropna()"
   ]
  },
  {
   "cell_type": "code",
   "execution_count": 4,
   "metadata": {
    "collapsed": true
   },
   "outputs": [],
   "source": [
    "movies = d.to_dict('records')"
   ]
  },
  {
   "cell_type": "code",
   "execution_count": 5,
   "metadata": {
    "collapsed": true
   },
   "outputs": [],
   "source": [
    "for movie in movies:\n",
    "    movie['overview']"
   ]
  },
  {
   "cell_type": "code",
   "execution_count": 6,
   "metadata": {},
   "outputs": [
    {
     "name": "stdout",
     "output_type": "stream",
     "text": [
      "['Hello\\tUH\\thello', ',\\t,\\t,', 'I\\tPP\\tI', 'am\\tVBP\\tbe', 'Yukie\\tNP\\tYukie', '.\\tSENT\\t.', 'I\\tPP\\tI', \"'m\\tVBP\\tbe\", 'from\\tIN\\tfrom', 'japan\\tNN\\tjapan', '.\\tSENT\\t.']\n"
     ]
    }
   ],
   "source": [
    "import treetaggerwrapper as ttw\n",
    "tagger = ttw.TreeTagger(TAGLANG='en')\n",
    "tags = tagger.TagText('Hello, I am Yukie. I\\'m from japan.')\n",
    "print(tags)"
   ]
  },
  {
   "cell_type": "code",
   "execution_count": 7,
   "metadata": {
    "collapsed": true
   },
   "outputs": [],
   "source": [
    "#movies_sample = movies[:10]\n",
    "hinshilist = ['FW', 'JJ', 'JJR', 'NN', 'NNS', 'NP', 'NPS', 'VV', 'VVD', 'VVG', 'VVN', 'VVP', 'VVZ']\n",
    "\n",
    "movie_word_dict = []\n",
    "tagger = ttw.TreeTagger(TAGLANG='en')\n",
    "for movie in movies:\n",
    "    words = tagger.TagText(movie['overview'])\n",
    "    wordslist = []\n",
    "    for word in words:\n",
    "        word_elements = word.split('\\t')\n",
    "        if len(word_elements)==3:\n",
    "            hinshi = word_elements[1]\n",
    "            word_ori = word_elements[2]\n",
    "            if hinshi in hinshilist:\n",
    "                wordslist.append(word_ori)\n",
    "                movie_word_dict.append((movie['title'],word_ori))\n",
    "    #print(wordslist)\n",
    "    movie.update({'words':wordslist})"
   ]
  },
  {
   "cell_type": "code",
   "execution_count": 10,
   "metadata": {},
   "outputs": [],
   "source": [
    "import networkx as nx\n",
    "nodelist = []\n",
    "\n",
    "G = nx.Graph()\n",
    "for movie in movies:\n",
    "    nodelist.append(movie['title'])\n",
    "    nodelist.extend(movie['words'])\n",
    "    G.add_nodes_from(movie['title'])\n",
    "    G.add_nodes_from(movie['words'])\n",
    "\n",
    "G.add_edges_from(movie_word_dict)"
   ]
  },
  {
   "cell_type": "code",
   "execution_count": null,
   "metadata": {
    "collapsed": true
   },
   "outputs": [],
   "source": [
    "import community\n",
    "partition = community.best_partition(G)\n",
    "size = float(len(set(partition.values())))\n",
    "pos = nx.spring_layout(G)\n",
    "count = 0.\n",
    "for com in set(partition.values()):\n",
    "    count += 1.\n",
    "    list_nodes = [nodes for nodes in partition.keys() if partition[nodes] == com]\n",
    "    nx.draw_networkx_nodes(G, pos, list_nodes, node_size=20, node_color = str(count/size) )\n",
    "plt.show()\n",
    "plt.savefig(\"movie_word_graph.png\")"
   ]
  },
  {
   "cell_type": "code",
   "execution_count": null,
   "metadata": {
    "collapsed": true
   },
   "outputs": [],
   "source": []
  }
 ],
 "metadata": {
  "kernelspec": {
   "display_name": "Python 3",
   "language": "python",
   "name": "python3"
  },
  "language_info": {
   "codemirror_mode": {
    "name": "ipython",
    "version": 3
   },
   "file_extension": ".py",
   "mimetype": "text/x-python",
   "name": "python",
   "nbconvert_exporter": "python",
   "pygments_lexer": "ipython3",
   "version": "3.6.1"
  }
 },
 "nbformat": 4,
 "nbformat_minor": 2
}
