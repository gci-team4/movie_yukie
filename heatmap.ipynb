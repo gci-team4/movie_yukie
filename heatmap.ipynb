{
 "cells": [
  {
   "cell_type": "code",
   "execution_count": 2,
   "metadata": {
    "collapsed": true
   },
   "outputs": [],
   "source": [
    "import pandas as pd\n",
    "import networkx as nx\n",
    "import ast\n",
    "import numpy as np\n",
    "import seaborn as sns\n",
    "from matplotlib.pylab import plt\n",
    "%matplotlib inline"
   ]
  },
  {
   "cell_type": "code",
   "execution_count": null,
   "metadata": {
    "collapsed": true
   },
   "outputs": [],
   "source": [
    "genres = pd.read_csv(\"genres_toyukie.csv\")\n",
    "genres"
   ]
  },
  {
   "cell_type": "code",
   "execution_count": null,
   "metadata": {
    "collapsed": true
   },
   "outputs": [],
   "source": [
    "a = [[1,2,3],[2,2,4],[3,3,5]]\n",
    "sns.heatmap(a)"
   ]
  },
  {
   "cell_type": "code",
   "execution_count": null,
   "metadata": {
    "collapsed": true
   },
   "outputs": [],
   "source": [
    "genres_matrix = np.zeros([20,20])"
   ]
  },
  {
   "cell_type": "code",
   "execution_count": null,
   "metadata": {
    "collapsed": true
   },
   "outputs": [],
   "source": [
    "for i in range(0,20):\n",
    "    for j in range(0,20):\n",
    "        movielist_i = ast.literal_eval(genres[\"movies\"][i])\n",
    "        movielist_j = ast.literal_eval(genres[\"movies\"][j])\n",
    "        movieset = set(movielist_i) & set(movielist_j)\n",
    "        #print(movieset)\n",
    "        genres_matrix[i][j] = len(movieset) / len(movielist_i)"
   ]
  },
  {
   "cell_type": "code",
   "execution_count": null,
   "metadata": {
    "collapsed": true
   },
   "outputs": [],
   "source": [
    "genrename = genres['name'].tolist()"
   ]
  },
  {
   "cell_type": "code",
   "execution_count": null,
   "metadata": {
    "collapsed": true
   },
   "outputs": [],
   "source": [
    "genredraw = sns.heatmap(genres_matrix, xticklabels=genrename, yticklabels = genrename)\n",
    "sns.plt.savefig('genredraw.png')"
   ]
  },
  {
   "cell_type": "code",
   "execution_count": null,
   "metadata": {
    "collapsed": true
   },
   "outputs": [],
   "source": [
    "# 10x12 の一様乱数を生成\n",
    "np.random.seed(0)\n",
    "uniform_data = np.random.rand(10, 12)\n",
    " \n",
    "# ヒートマップを出力\n",
    "sns.heatmap(uniform_data)"
   ]
  }
 ],
 "metadata": {
  "kernelspec": {
   "display_name": "Python 3",
   "language": "python",
   "name": "python3"
  },
  "language_info": {
   "codemirror_mode": {
    "name": "ipython",
    "version": 3
   },
   "file_extension": ".py",
   "mimetype": "text/x-python",
   "name": "python",
   "nbconvert_exporter": "python",
   "pygments_lexer": "ipython3",
   "version": "3.6.1"
  }
 },
 "nbformat": 4,
 "nbformat_minor": 2
}
